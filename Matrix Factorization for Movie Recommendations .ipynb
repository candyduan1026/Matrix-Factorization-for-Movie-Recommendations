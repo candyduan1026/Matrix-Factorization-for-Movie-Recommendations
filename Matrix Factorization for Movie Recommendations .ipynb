{
 "cells": [
  {
   "cell_type": "markdown",
   "metadata": {},
   "source": [
    "# Matrix Factorization for Movie Recommendations in Python"
   ]
  },
  {
   "cell_type": "markdown",
   "metadata": {},
   "source": [
    "### Overview\n",
    "\n",
    "In this project, I will build an model-based collaborative filtering system using MovieLens Datasets. specifically, I will implement Model-Based CF by using singular value decomposition (SVD).\n",
    "\n",
    "### Recommender System\n",
    "A recommendation system is basically an information filtering system that seeks to predict the \"rating\" or \"preference\" a user would give to an item. It is widely used in different internet / online business such as Amazon, Netflix, Spotify, or social media like Facebook and Youtube. By using recommender systems, those companies are able to provide better or more suited products/services/contents that are personalized to a user based on his/her historical consumer behaviors\n",
    "\n",
    "Recommender systems typically produce a list of recommendations through collaborative filtering or through content-based filtering\n",
    "\n",
    "This project will focus on collaborative filtering and use item-based collaborative filtering systems to make movie recommendation\n",
    "\n",
    "### Model-based Collaborative Filtering\n",
    "Model-based Collaborative Filtering is based on matrix factorization (MF) which has received greater exposure, mainly as an unsupervised learning method for latent variable decomposition and dimensionality reduction. Matrix factorization is widely used for recommender systems where it can deal better with scalability and sparsity than Memory-based CF. When you have a very sparse matrix, with a lot of dimensions, by doing matrix factorization you can restructure the user-item matrix into low-rank structure, and you can represent the matrix by the multiplication of two low-rank matrices, where the rows contain the latent vector. You fit this matrix to approximate your original matrix, as closely as possible, by multiplying the low-rank matrices together, which fills in the entries missing in the original matrix.\n",
    "\n",
    "### Content Overview\n",
    "* Importing Data\n",
    "* Data Cleaning\n",
    "* Fit Low Rank Matrix Factorization Model\n",
    "  1. Choose Optimal Estimator: 5-fold cross validation\n",
    "  2. Multithreading Optimization of CV Running Time\n",
    "* Recommendation\n",
    "* Model Evaluation in Individual Level\n",
    "* Conclusion"
   ]
  },
  {
   "cell_type": "code",
   "execution_count": 1,
   "metadata": {},
   "outputs": [],
   "source": [
    "import pandas as pd\n",
    "import numpy as np\n",
    "import csv\n",
    "import matplotlib.pyplot as plt\n",
    "import seaborn as sns\n",
    "import datetime\n",
    "%matplotlib inline\n",
    "\n",
    "from collections import defaultdict #data colector\n",
    "\n",
    "#Surprise: https://surprise.readthedocs.io/en/stable/\n",
    "import surprise\n",
    "\n",
    "from surprise.reader import Reader\n",
    "from surprise import Dataset\n",
    "from surprise import accuracy\n",
    "from surprise.model_selection import KFold\n",
    "from surprise.model_selection import GridSearchCV\n",
    "\n",
    "#CrossValidation\n",
    "from surprise.model_selection import cross_validate\n",
    "\n",
    "\n",
    "#Matrix Factorization Algorithms\n",
    "from surprise import SVD\n",
    "from surprise import NMF\n",
    "\n",
    "np.random.seed(42) # replicating results"
   ]
  },
  {
   "cell_type": "markdown",
   "metadata": {},
   "source": [
    "### Importing the data"
   ]
  },
  {
   "cell_type": "markdown",
   "metadata": {},
   "source": [
    "Firstly, we need to download the MovieLens dat files from website and import the data."
   ]
  },
  {
   "cell_type": "code",
   "execution_count": 2,
   "metadata": {},
   "outputs": [],
   "source": [
    "dat_set = ['movies.dat', 'users.dat', 'ratings.dat']\n",
    "csv_set = ['movies.csv', 'users.csv', 'ratings.csv']\n",
    "name_set = [[\"MovieId\", \"Title\", \"Genres\"], ['UserID', 'Gender', 'Age', 'Occupation', 'Zip-code'],\n",
    "            ['UserID', 'MovieId', 'Rating', 'Timestamp']]\n",
    "df_name = ['movies', 'users', 'ratings']\n",
    "\n",
    "for k in range(0, len(dat_set)):\n",
    "    with open(dat_set[k], encoding=\"ISO-8859-1\") as dat_file, open(csv_set[k], 'w') as csv_file:\n",
    "        csv_writer = csv.writer(csv_file)\n",
    "\n",
    "        for line in dat_file:\n",
    "            row = [field.strip() for field in line.split('::')]\n",
    "            csv_writer.writerow(row)\n",
    "\n",
    "    df_name[k] = pd.read_csv(csv_set[k], names=name_set[k])\n",
    "\n",
    "df_movies = df_name[0]\n",
    "df_users = df_name[1]\n",
    "df_ratings = df_name[2]\n",
    "\n",
    "df_movies['MovieId'] = df_movies['MovieId'].apply(pd.to_numeric)\n",
    "df_ratings['Rating'] = df_ratings['Rating'].apply(lambda x: int(x))"
   ]
  },
  {
   "cell_type": "markdown",
   "metadata": {},
   "source": [
    "### Data Cleaning\n",
    "\n",
    "\n",
    "\n",
    "Before we train the model, we will take a look at the movies and ratings dataframe and filter and demean the dataframe based on our \"MovieLens 1M Data Exploratory Analysis Report\".\n",
    "\n",
    "* Filter the ratings dataframe"
   ]
  },
  {
   "cell_type": "code",
   "execution_count": 3,
   "metadata": {},
   "outputs": [
    {
     "data": {
      "text/html": [
       "<div>\n",
       "<style scoped>\n",
       "    .dataframe tbody tr th:only-of-type {\n",
       "        vertical-align: middle;\n",
       "    }\n",
       "\n",
       "    .dataframe tbody tr th {\n",
       "        vertical-align: top;\n",
       "    }\n",
       "\n",
       "    .dataframe thead th {\n",
       "        text-align: right;\n",
       "    }\n",
       "</style>\n",
       "<table border=\"1\" class=\"dataframe\">\n",
       "  <thead>\n",
       "    <tr style=\"text-align: right;\">\n",
       "      <th></th>\n",
       "      <th>MovieId</th>\n",
       "      <th>Title</th>\n",
       "      <th>Genres</th>\n",
       "    </tr>\n",
       "  </thead>\n",
       "  <tbody>\n",
       "    <tr>\n",
       "      <td>0</td>\n",
       "      <td>1</td>\n",
       "      <td>Toy Story (1995)</td>\n",
       "      <td>Animation|Children's|Comedy</td>\n",
       "    </tr>\n",
       "    <tr>\n",
       "      <td>1</td>\n",
       "      <td>2</td>\n",
       "      <td>Jumanji (1995)</td>\n",
       "      <td>Adventure|Children's|Fantasy</td>\n",
       "    </tr>\n",
       "    <tr>\n",
       "      <td>2</td>\n",
       "      <td>3</td>\n",
       "      <td>Grumpier Old Men (1995)</td>\n",
       "      <td>Comedy|Romance</td>\n",
       "    </tr>\n",
       "    <tr>\n",
       "      <td>3</td>\n",
       "      <td>4</td>\n",
       "      <td>Waiting to Exhale (1995)</td>\n",
       "      <td>Comedy|Drama</td>\n",
       "    </tr>\n",
       "    <tr>\n",
       "      <td>4</td>\n",
       "      <td>5</td>\n",
       "      <td>Father of the Bride Part II (1995)</td>\n",
       "      <td>Comedy</td>\n",
       "    </tr>\n",
       "  </tbody>\n",
       "</table>\n",
       "</div>"
      ],
      "text/plain": [
       "   MovieId                               Title                        Genres\n",
       "0        1                    Toy Story (1995)   Animation|Children's|Comedy\n",
       "1        2                      Jumanji (1995)  Adventure|Children's|Fantasy\n",
       "2        3             Grumpier Old Men (1995)                Comedy|Romance\n",
       "3        4            Waiting to Exhale (1995)                  Comedy|Drama\n",
       "4        5  Father of the Bride Part II (1995)                        Comedy"
      ]
     },
     "execution_count": 3,
     "metadata": {},
     "output_type": "execute_result"
    }
   ],
   "source": [
    "df_movies.head()"
   ]
  },
  {
   "cell_type": "code",
   "execution_count": 4,
   "metadata": {},
   "outputs": [
    {
     "data": {
      "text/html": [
       "<div>\n",
       "<style scoped>\n",
       "    .dataframe tbody tr th:only-of-type {\n",
       "        vertical-align: middle;\n",
       "    }\n",
       "\n",
       "    .dataframe tbody tr th {\n",
       "        vertical-align: top;\n",
       "    }\n",
       "\n",
       "    .dataframe thead th {\n",
       "        text-align: right;\n",
       "    }\n",
       "</style>\n",
       "<table border=\"1\" class=\"dataframe\">\n",
       "  <thead>\n",
       "    <tr style=\"text-align: right;\">\n",
       "      <th></th>\n",
       "      <th>UserID</th>\n",
       "      <th>MovieId</th>\n",
       "      <th>Rating</th>\n",
       "      <th>Timestamp</th>\n",
       "    </tr>\n",
       "  </thead>\n",
       "  <tbody>\n",
       "    <tr>\n",
       "      <td>0</td>\n",
       "      <td>1</td>\n",
       "      <td>1193</td>\n",
       "      <td>5</td>\n",
       "      <td>978300760</td>\n",
       "    </tr>\n",
       "    <tr>\n",
       "      <td>1</td>\n",
       "      <td>1</td>\n",
       "      <td>661</td>\n",
       "      <td>3</td>\n",
       "      <td>978302109</td>\n",
       "    </tr>\n",
       "    <tr>\n",
       "      <td>2</td>\n",
       "      <td>1</td>\n",
       "      <td>914</td>\n",
       "      <td>3</td>\n",
       "      <td>978301968</td>\n",
       "    </tr>\n",
       "    <tr>\n",
       "      <td>3</td>\n",
       "      <td>1</td>\n",
       "      <td>3408</td>\n",
       "      <td>4</td>\n",
       "      <td>978300275</td>\n",
       "    </tr>\n",
       "    <tr>\n",
       "      <td>4</td>\n",
       "      <td>1</td>\n",
       "      <td>2355</td>\n",
       "      <td>5</td>\n",
       "      <td>978824291</td>\n",
       "    </tr>\n",
       "  </tbody>\n",
       "</table>\n",
       "</div>"
      ],
      "text/plain": [
       "   UserID  MovieId  Rating  Timestamp\n",
       "0       1     1193       5  978300760\n",
       "1       1      661       3  978302109\n",
       "2       1      914       3  978301968\n",
       "3       1     3408       4  978300275\n",
       "4       1     2355       5  978824291"
      ]
     },
     "execution_count": 4,
     "metadata": {},
     "output_type": "execute_result"
    }
   ],
   "source": [
    "df_ratings.head()"
   ]
  },
  {
   "cell_type": "markdown",
   "metadata": {},
   "source": [
    "These look good, but from our previous data exploratory report, we find some outliers which only rated once and got rating score as high as 5. Therefore, we filter the rating table to only include movies which have at least 2 ratings and users who rate at least 5 times. \n",
    "\n",
    "Dropping out less known movies can improve recommendation quality."
   ]
  },
  {
   "cell_type": "code",
   "execution_count": 5,
   "metadata": {},
   "outputs": [
    {
     "data": {
      "text/plain": [
       "'114 movies deleted; all movies are now rated at least: 2 times. Old dimensions: (1000209, 4); New dimensions: (1000095, 4)'"
      ]
     },
     "execution_count": 5,
     "metadata": {},
     "output_type": "execute_result"
    }
   ],
   "source": [
    "min_movie_ratings = 2 #a movie has was rated at least \n",
    "min_user_ratings =  5 #a user rated movies at least\n",
    "\n",
    "\n",
    "ratings_flrd_df = df_ratings.groupby(\"MovieId\").filter(lambda x: x['MovieId'].count() >= min_movie_ratings)\n",
    "ratings_flrd_df = ratings_flrd_df.groupby(\"UserID\").filter(lambda x: x['UserID'].count() >= min_user_ratings)\n",
    "\n",
    "\n",
    "\"{0} movies deleted; all movies are now rated at least: {1} times. Old dimensions: {2}; New dimensions: {3}\"\\\n",
    ".format(len(df_ratings.MovieId.value_counts()) - len(ratings_flrd_df.MovieId.value_counts())\\\n",
    "        ,min_movie_ratings,df_ratings.shape, ratings_flrd_df.shape )"
   ]
  },
  {
   "cell_type": "markdown",
   "metadata": {},
   "source": [
    "Now let's take a quick look at the number of unique users and movies."
   ]
  },
  {
   "cell_type": "code",
   "execution_count": 6,
   "metadata": {},
   "outputs": [
    {
     "name": "stdout",
     "output_type": "stream",
     "text": [
      "Num of Users: 6040\n",
      "Num of Movies: 3592\n"
     ]
    }
   ],
   "source": [
    "n_users = ratings_flrd_df['UserID'].nunique()\n",
    "n_items = ratings_flrd_df['MovieId'].nunique()\n",
    "\n",
    "print('Num of Users: '+ str(n_users))\n",
    "print('Num of Movies: '+str(n_items))"
   ]
  },
  {
   "cell_type": "markdown",
   "metadata": {},
   "source": [
    "Intuitively, not every user has rated every movie, and it's a bit nonsensical to expect them to. Working with Sparse data (data with a lot of NaNs)is very different — and that’s what makes Recommendation an interesting problem. Let's calculate the sparsity level of MovieLens dataset:"
   ]
  },
  {
   "cell_type": "code",
   "execution_count": 7,
   "metadata": {},
   "outputs": [
    {
     "name": "stdout",
     "output_type": "stream",
     "text": [
      "The sparsity level of MovieLens100K is 95.39999999999999%\n"
     ]
    }
   ],
   "source": [
    "sparsity=round(1.0-len(ratings_flrd_df)/float(n_users*n_items),3)\n",
    "print('The sparsity level of MovieLens100K is ' +  str(sparsity*100) + '%')"
   ]
  },
  {
   "cell_type": "markdown",
   "metadata": {},
   "source": [
    "Now we would like to create a dummy variable to map between the movie id and column index."
   ]
  },
  {
   "cell_type": "code",
   "execution_count": 8,
   "metadata": {},
   "outputs": [],
   "source": [
    "movie_list = ratings_flrd_df['MovieId'].unique()\n",
    "movie_list.sort()\n",
    "\n",
    "movie_to_idx = {movie: index for index, movie in enumerate (movie_list)}"
   ]
  },
  {
   "cell_type": "markdown",
   "metadata": {},
   "source": [
    "### Fit Low Rank Matrix Factorization Model"
   ]
  },
  {
   "cell_type": "markdown",
   "metadata": {},
   "source": [
    "After filtering the dataset, we want to discover the structures. With high-dimentional raw data, it's hard to extract information. The goal of matrix factorization is to learn the latent preferences of users and the latent attributes of items from known ratings (learn features that describe the characteristics of ratings) to then predict the unknown ratings through the dot product of the latent features of users and items. Let's train the SVD model and examine the effect of number of latent factors k on the model's performance now.\n",
    "\n",
    "We will read the data first."
   ]
  },
  {
   "cell_type": "code",
   "execution_count": 9,
   "metadata": {},
   "outputs": [],
   "source": [
    "reader = Reader(rating_scale=(0, 5)) #line_format by default order of the fields\n",
    "data = Dataset.load_from_df(ratings_flrd_df[[\"UserID\", \"MovieId\", \"Rating\"]], reader=reader)"
   ]
  },
  {
   "cell_type": "markdown",
   "metadata": {},
   "source": [
    "#### Evaluate Estimator Performance\n",
    "\n",
    "* 5-fold cross validation\n",
    "\n",
    "\n",
    "As we train any model on the training set, it tends to overfit or underfit most of the time, and in order to avoid this situation, we use regularization techniques. Cross validation is a good technique to evaluate the estimator performance. To find the best performance of latent factor, we use 5 fold cross validation. A list of mean RMSE of CV = 5 in cross_validate() for each factor k in range(1, 101, 1) will be returned.\n",
    "\n",
    "* Multithreading for optimization\n",
    "\n",
    "\n",
    "Since 5-fold cross validation randomly splits the dataset into 5 testsets and tests 5 times for each factor k, the running time is very slow. To optimize the process, we create a queue and 4 threads which will pick task from the queue. Once the task is finished, it will be removed from the queue. The multithreading optimizes the running time. "
   ]
  },
  {
   "cell_type": "code",
   "execution_count": null,
   "metadata": {},
   "outputs": [],
   "source": [
    "import threading\n",
    "import time\n",
    "\n",
    "PARALLEL_SIZE = 4\n",
    "\n",
    "threadLock = threading.Lock()\n",
    "rmse_algo_map = {}\n",
    "rmse_algorithm = []\n",
    "thread_pool = []\n",
    "pending = []\n",
    "processing = set()\n",
    "\n",
    "def calc(k):\n",
    "    \n",
    "    threadLock.acquire()\n",
    "    print(\"k :\" + str(k) + \" started\")\n",
    "    processing.add(k)\n",
    "    threadLock.release()\n",
    "    \n",
    "    algo = SVD(n_factors = k)\n",
    "\n",
    "    #[\"test_rmse\"] is a numpy array with min accuracy value for each testset\n",
    "    loss_fce = cross_validate(algo, data, measures=['RMSE'], cv=5, verbose=False)[\"test_rmse\"].mean()\n",
    "    \n",
    "    threadLock.acquire()\n",
    "    rmse_algo_map[k] = loss_fce\n",
    "    print(\"k :\" + str(k) + \" is done\")\n",
    "    processing.remove(k)\n",
    "    print(\"Processing: \" + str(processing))\n",
    "    print(\"Pending: \" + str(len(pending)))\n",
    "    threadLock.release()\n",
    "\n",
    "class computeThread(threading.Thread):\n",
    "    def __init__(self, threadID, name):\n",
    "        threading.Thread.__init__(self)\n",
    "        self.threadID = threadID\n",
    "        self.name = name\n",
    "    def run(self):\n",
    "        print(self.name + \" running\")\n",
    "        threadLock.acquire()\n",
    "        curr_pending_num = len(pending)\n",
    "        threadLock.release()\n",
    "        while curr_pending_num > 0:\n",
    "            threadLock.acquire()\n",
    "            k = pending.pop()\n",
    "            threadLock.release()\n",
    "            \n",
    "            calc(k)\n",
    "            \n",
    "            threadLock.acquire()\n",
    "            curr_pending_num = len(pending)\n",
    "            threadLock.release()\n",
    "        print(self.name + \" closing\")\n",
    "\n",
    "def rmse_vs_factors(data):   \n",
    "    rmse_algo_map = {}\n",
    "    algo_start = 1\n",
    "    algo_end = 101\n",
    "    \n",
    "    # Add 1...101 to pending list\n",
    "    for k in range(algo_start, algo_end + 1):\n",
    "        pending.append(k)\n",
    "    \n",
    "    for thread_idx in range(0, PARALLEL_SIZE):\n",
    "        thread_name = \"Thread-\" + str(thread_idx)\n",
    "        thread = computeThread(thread_idx, thread_name)\n",
    "        thread.start()\n",
    "        thread_pool.append(thread)\n",
    "    \n",
    "    # Wait until all threads finished\n",
    "    for t in thread_pool:\n",
    "        t.join()\n",
    "\n",
    "rmse_vs_factors(data)\n",
    "if len(rmse_algo_map) < 100:\n",
    "    raise Exception(\"Not completed\")\n",
    "\n",
    "# Convert dict to list for plotting\n",
    "for k in range(1, 102):\n",
    "    rmse_algorithm.append(rmse_algo_map[k])\n",
    "    \n",
    "rmse_svd = rmse_algorithm \n",
    "print(rmse_svd)"
   ]
  },
  {
   "cell_type": "markdown",
   "metadata": {},
   "source": [
    "We save the rmse_svd as a csv for future use. Now we can plot the RMSE for number of latent factor k and choose the k with the minimum RMSE."
   ]
  },
  {
   "cell_type": "code",
   "execution_count": 10,
   "metadata": {},
   "outputs": [
    {
     "data": {
      "image/png": "[encoded data removed]",
      "text/plain": [
       "<Figure size 880x400 with 2 Axes>"
      ]
     },
     "metadata": {},
     "output_type": "display_data"
    }
   ],
   "source": [
    "# import the rmse_svd csv file and clean the data\n",
    "rmse_mean = pd.read_csv('Mean RMSE 5-fold CV Data.csv')\n",
    "rmse_mean_d = rmse_mean['Mean RMSE'].apply(lambda rmse: float(rmse[:-1]))\n",
    "rmse_list = rmse_mean_d.tolist()\n",
    "\n",
    "# RMSE Against Number of Factors\n",
    "def plot_rmse(rmse_list, algorithm):\n",
    "    plt.figure(num=None, figsize=(11, 5), dpi=80, facecolor='w', edgecolor='k')\n",
    "\n",
    "    plt.subplot(2,1,1)\n",
    "    plt.plot(rmse_list)\n",
    "    plt.xlim(0,100)\n",
    "    plt.title(\"{0} Performance: RMSE Against Number of Factors\".format(algorithm), size = 20 )\n",
    "    plt.ylabel(\"Mean RMSE (cv=5)\")\n",
    "\n",
    "    plt.subplot(2,1,2)\n",
    "    plt.plot(rmse_list)\n",
    "    plt.xlim(0,50)\n",
    "    plt.xticks(np.arange(0, 52, step=2))\n",
    "\n",
    "    plt.xlabel(\"{0}(n_factor = k)\".format(algorithm))\n",
    "    plt.ylabel(\"Mean RMSE (cv=5)\")\n",
    "    plt.axvline(np.argmin(rmse_list), color = \"r\")\n",
    "\n",
    "plot_rmse(rmse_list,\"SVD\")"
   ]
  },
  {
   "cell_type": "markdown",
   "metadata": {},
   "source": [
    "From our cross validation result, when the latent factor is really low, the model is underfitted and the RMSE is relatively high. The RMSE keeps decreasing until the factor is over 40 when the training set is an overfit representation of user tastes. We find the best estimator performance of k = 39 and the RMSE is around the 0.87. One thing to notice is that even when the k is 24, the RMSE is not bad at all. Now it's time to train our model."
   ]
  },
  {
   "cell_type": "code",
   "execution_count": 11,
   "metadata": {},
   "outputs": [
    {
     "name": "stdout",
     "output_type": "stream",
     "text": [
      "RMSE: 0.8695\n",
      "RMSE: 0.8716\n",
      "RMSE: 0.8670\n",
      "RMSE: 0.8706\n",
      "RMSE: 0.8720\n"
     ]
    }
   ],
   "source": [
    "# define a cross-validation iterator\n",
    "kf = KFold(n_splits=5)\n",
    "\n",
    "algo = SVD(n_factors = 39)\n",
    "\n",
    "for trainset, testset in kf.split(data):\n",
    "\n",
    "    # train and test algorithm.\n",
    "    algo.fit(trainset)\n",
    "    predictions = algo.test(testset)\n",
    "\n",
    "    # Compute and print Root Mean Squared Error\n",
    "    accuracy.rmse(predictions, verbose=True)"
   ]
  },
  {
   "cell_type": "markdown",
   "metadata": {},
   "source": [
    "We can take a look of the predictions."
   ]
  },
  {
   "cell_type": "code",
   "execution_count": 12,
   "metadata": {},
   "outputs": [
    {
     "data": {
      "text/plain": [
       "[Prediction(uid=3312, iid=2100, r_ui=3.0, est=2.9314936290239864, details={'was_impossible': False}),\n",
       " Prediction(uid=4812, iid=2458, r_ui=3.0, est=2.282164670864508, details={'was_impossible': False})]"
      ]
     },
     "execution_count": 12,
     "metadata": {},
     "output_type": "execute_result"
    }
   ],
   "source": [
    "predictions[0:2]"
   ]
  },
  {
   "cell_type": "markdown",
   "metadata": {},
   "source": [
    "### SVD Recommendation"
   ]
  },
  {
   "cell_type": "markdown",
   "metadata": {},
   "source": [
    "The prediction contains user_id(uid), movie_id(iid), rating score(r_ui) and estimated rating score(est). We want map the prediction to each user and return the top 10 movies to which the user give the highest rating score. Besides, we also want to give some details about the prediction such as movie title and genres. For the code below, we randomly choose 318 as an example for model evaluation."
   ]
  },
  {
   "cell_type": "code",
   "execution_count": 58,
   "metadata": {},
   "outputs": [
    {
     "name": "stdout",
     "output_type": "stream",
     "text": [
      "                                               Title  \\\n",
      "0                                 Matrix, The (1999)   \n",
      "1                                 Heavy Metal (1981)   \n",
      "2                                  Dead Again (1991)   \n",
      "3                 Big Trouble in Little China (1986)   \n",
      "4                             American Beauty (1999)   \n",
      "5                   Kentucky Fried Movie, The (1977)   \n",
      "6                                      Kundun (1997)   \n",
      "7  Star Wars: Episode V - The Empire Strikes Back...   \n",
      "8                          North by Northwest (1959)   \n",
      "9   Star Wars: Episode I - The Phantom Menace (1999)   \n",
      "\n",
      "                                     Genres  EstRating  \n",
      "0                    Action|Sci-Fi|Thriller   4.324920  \n",
      "1  Action|Adventure|Animation|Horror|Sci-Fi   4.020811  \n",
      "2                  Mystery|Romance|Thriller   4.019110  \n",
      "3                             Action|Comedy   3.836818  \n",
      "4                              Comedy|Drama   3.835161  \n",
      "5                                    Comedy   3.804906  \n",
      "6                                     Drama   3.773228  \n",
      "7         Action|Adventure|Drama|Sci-Fi|War   3.722707  \n",
      "8                            Drama|Thriller   3.715554  \n",
      "9           Action|Adventure|Fantasy|Sci-Fi   3.644101  \n"
     ]
    }
   ],
   "source": [
    "def get_top_n(predictions, UserID, n = 10):\n",
    "    \n",
    "    # First map the predictions to each user: {user:list[(movie_id, est_rating), (movie_id, est_rating)...]}\n",
    "    # Surprise documentation: https://surprise.readthedocs.io/en/stable/predictions_module.html\n",
    "        # uid – The (raw) user id. \n",
    "        # iid – The (raw) item id. \n",
    "        # r_ui (float) – The true rating 𝑟𝑢𝑖.\n",
    "        # est (float) – The estimated rating r^𝑢𝑖.\n",
    "        \n",
    "    top_n = defaultdict(list)\n",
    "    for user_id, movie_id, true_r, est_r, detail in predictions:\n",
    "        top_n[user_id].append((movie_id, est_r))\n",
    "\n",
    "    # Then sort the predictions for each user by the estimated rating and find top k movie_id\n",
    "    for user_id, movie_ratings in top_n.items():\n",
    "        movie_ratings.sort(key = lambda x: x[1], reverse = True)\n",
    "        top_n[user_id] = movie_ratings[: n]\n",
    "        return top_n[user_id]\n",
    "\n",
    "def recommendation(user_id, predictions):\n",
    "    movie_rating_list = get_top_n(predictions, user_id, n=10)\n",
    "    preds_list = pd.DataFrame(movie_rating_list, columns=[\"MovieId\", \"EstRating\"])\n",
    "    preds_df = pd.DataFrame(preds_list.merge(df_movies, on='MovieId', how='left'))[['Title', 'Genres', 'EstRating']]\n",
    "    print(preds_df)\n",
    "\n",
    "recommendation(318, predictions)"
   ]
  },
  {
   "cell_type": "markdown",
   "metadata": {},
   "source": [
    "### Model Evaluation\n",
    "\n",
    "\n",
    "To evaluate the performance of our model, we also need to know the details of movies which the user has already rated, so we can see the latent factor that our model incorporates."
   ]
  },
  {
   "cell_type": "code",
   "execution_count": 60,
   "metadata": {},
   "outputs": [
    {
     "name": "stdout",
     "output_type": "stream",
     "text": [
      "User information:\n",
      "\n",
      "     UserID Gender  Age  Occupation Zip-code\n",
      "317     318      F   56          13    55104\n",
      "\n",
      "\n",
      "Movies which has already been rated:\n",
      "\n",
      "                                         Title                         Genres  \\\n",
      "20                         Blood Simple (1984)                Drama|Film-Noir   \n",
      "18                          Chicken Run (2000)    Animation|Children's|Comedy   \n",
      "4                    Gone with the Wind (1939)              Drama|Romance|War   \n",
      "5                             Elizabeth (1998)                          Drama   \n",
      "7                         Bug's Life, A (1998)    Animation|Children's|Comedy   \n",
      "12  Taking of Pelham One Two Three, The (1974)                         Action   \n",
      "11                         Ghostbusters (1984)                  Comedy|Horror   \n",
      "19              Poseidon Adventure, The (1972)               Action|Adventure   \n",
      "15                        Out of Africa (1985)                  Drama|Romance   \n",
      "14                                Diner (1982)                   Comedy|Drama   \n",
      "13            Secret of Roan Inish, The (1994)                          Drama   \n",
      "0       One Flew Over the Cuckoo's Nest (1975)                          Drama   \n",
      "9                          Little Voice (1998)                         Comedy   \n",
      "8              Talented Mr. Ripley, The (1999)         Drama|Mystery|Thriller   \n",
      "3            Journey of Natty Gann, The (1985)           Adventure|Children's   \n",
      "10                  Shakespeare in Love (1998)                 Comedy|Romance   \n",
      "1                    Dances with Wolves (1990)        Adventure|Drama|Western   \n",
      "6                       Pacific Heights (1990)                       Thriller   \n",
      "2                        Tender Mercies (1983)                          Drama   \n",
      "16                      Iron Giant, The (1999)           Animation|Children's   \n",
      "17                        Arachnophobia (1990)  Action|Comedy|Sci-Fi|Thriller   \n",
      "\n",
      "    Rating  \n",
      "20       5  \n",
      "18       5  \n",
      "4        5  \n",
      "5        5  \n",
      "7        5  \n",
      "12       5  \n",
      "11       4  \n",
      "19       4  \n",
      "15       4  \n",
      "14       4  \n",
      "13       4  \n",
      "0        4  \n",
      "9        4  \n",
      "8        4  \n",
      "3        4  \n",
      "10       4  \n",
      "1        3  \n",
      "6        3  \n",
      "2        3  \n",
      "16       2  \n",
      "17       2  \n"
     ]
    }
   ],
   "source": [
    "def moviesRatedAlready(user_id, predictions):\n",
    "    # the movies that the user has already rated\n",
    "    movies_rated_already = df_ratings[df_ratings['UserID'] == user_id]\n",
    "    rated_list = movies_rated_already.merge(df_movies, on='MovieId', how='left')[['Title', 'Genres', 'Rating']].sort_values('Rating', ascending=False,)\n",
    "    rated_df = pd.DataFrame(rated_list)\n",
    "    # general user information\n",
    "    user_info = df_users[df_users['UserID'] == user_id]\n",
    "    print('User information:'+'\\n') \n",
    "    print(user_info)\n",
    "    print('\\n')\n",
    "    print('Movies which has already been rated:'+'\\n')    \n",
    "    print(rated_df)\n",
    "    \n",
    "moviesRatedAlready(318, predictions)"
   ]
  },
  {
   "cell_type": "markdown",
   "metadata": {},
   "source": [
    "Now we can evaluate the model on an individual level by observing the predicted movies and the user's historical rating. \n",
    "\n",
    "From the movies which the user has already rated, she/he seems very like movies with the tags in drama, action, comedy and thriller. When we look at the predictions from SVD model, it makes sense that most of the recommended movies are from those genres. However, the SVD model also recommends Star Wars series, which are very popular movies and we are not sure if there is a popular biase which the model will recommend popular movies."
   ]
  },
  {
   "cell_type": "markdown",
   "metadata": {},
   "source": [
    "## Conclusion"
   ]
  },
  {
   "cell_type": "markdown",
   "metadata": {},
   "source": [
    "In conclusion, the SVD model gives pretty good recommendation because the RMSE is around 0.87 when we choose 39 as our optimal latent factor. We optimize the model in two ways. Firstly, we clean some outliers and noise in the dataset by only including the users who rate at least 5 movies and movies who are rated at least two times. Secondly, when we are running the 5-fold cross validation to find the optimal k, we use multithreading to reduce the running time. Through the exploratory analysis and our understanding of the model, here are some of the merits of SVD:\n",
    "\n",
    "* Scalability: SVD can scales significantly better to larger datasets, since we can actually approximate the SVD with gradient descent.\n",
    "\n",
    "* Better prediction on user's taste: even though we didn't use genres as a feature in the model, the recommender system does recommend movies from the genres which the user gives higher rating score. This reflects that the SVD picks up underlying preference and taste.\n",
    "\n",
    "However, there are also some areas we can improve on or think about:\n",
    "\n",
    "* Recommendation Accuracy: we use RMSE to evaluate our model but this might not be the best one. Let's take a look of the extreme case where user A only like horror movies and gives 5 to some horro movies and 0 to the rest but user B only like romantic movies and gives 5 to romantic movies and 0 to the rest. Based on our RMSE equation, the romantic movie lover might get the recommendation from horror movies because the RMSE would be the same. <img src=\"https://latex.codecogs.com/gif.latex?RMSE&space;=\\sqrt{\\frac{1}{N}&space;\\sum&space;(x_i&space;-\\hat{x_i})^2}\" title=\"RMSE =\\sqrt{\\frac{1}{N} \\sum (x_i -\\hat{x_i})^2}\" />\n",
    "\n",
    "* Popularity Bias: from our exploratory analysis, we find that the movies which are most frequently rated usually get higher scores. The distribution is skewed to the left. We also want to recommend the movies which has few number of rate."
   ]
  }
 ],
 "metadata": {
  "kernelspec": {
   "display_name": "Python 3",
   "language": "python",
   "name": "python3"
  },
  "language_info": {
   "codemirror_mode": {
    "name": "ipython",
    "version": 3
   },
   "file_extension": ".py",
   "mimetype": "text/x-python",
   "name": "python",
   "nbconvert_exporter": "python",
   "pygments_lexer": "ipython3",
   "version": "3.7.4"
  }
 },
 "nbformat": 4,
 "nbformat_minor": 2
}
